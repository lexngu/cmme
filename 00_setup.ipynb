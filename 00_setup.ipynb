{
 "cells": [
  {
   "cell_type": "code",
   "execution_count": null,
   "id": "48891cfd",
   "metadata": {
    "scrolled": true
   },
   "outputs": [],
   "source": [
    "import ppm # Import PPM, which sets R_HOME\n",
    "\n",
    "%load_ext rpy2.ipython"
   ]
  },
  {
   "cell_type": "code",
   "execution_count": null,
   "id": "4858fb12",
   "metadata": {},
   "outputs": [],
   "source": [
    "%%R\n",
    "# Install PPM-Decay\n",
    "if (!require(\"devtools\")) install.packages(\"devtools\")\n",
    "devtools::install_github(\"pmcharrison/ppm\")\n",
    "\n",
    "# Install dependencies of the comparison environment\n",
    "install.packages(c(\"tidyr\", \"dplyr\"), repo=\"https://ftp.fau.de/cran/\")"
   ]
  }
 ],
 "metadata": {
  "kernelspec": {
   "display_name": "Python 3 (ipykernel)",
   "language": "python",
   "name": "python3"
  },
  "language_info": {
   "codemirror_mode": {
    "name": "ipython",
    "version": 3
   },
   "file_extension": ".py",
   "mimetype": "text/x-python",
   "name": "python",
   "nbconvert_exporter": "python",
   "pygments_lexer": "ipython3",
   "version": "3.7.13"
  }
 },
 "nbformat": 4,
 "nbformat_minor": 5
}
